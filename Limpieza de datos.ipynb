{
 "cells": [
  {
   "cell_type": "code",
   "execution_count": 1,
   "id": "14795153",
   "metadata": {},
   "outputs": [],
   "source": [
    "import pandas as pd\n",
    "import numpy as np\n",
    "import datetime"
   ]
  },
  {
   "cell_type": "markdown",
   "id": "5793227f",
   "metadata": {},
   "source": [
    "## Limpieza de datos del dataset Drones (PRA2 - Visualización de Datos)"
   ]
  },
  {
   "cell_type": "code",
   "execution_count": 2,
   "id": "b8cfd9b5",
   "metadata": {},
   "outputs": [],
   "source": [
    "df = pd.read_csv('../09 - Creación de la visualización y entrega proyecto (PRA2)/ASNdronesdb.csv', encoding=\"latin-1\", sep=\",\")\n",
    "\n",
    "# Usamos encoding latin-1 porque el que viene por defecto \"utf-8\" da error a la hora de leer el dataset"
   ]
  },
  {
   "cell_type": "code",
   "execution_count": 3,
   "id": "bde80319",
   "metadata": {},
   "outputs": [
    {
     "data": {
      "text/plain": [
       "(16750, 15)"
      ]
     },
     "execution_count": 3,
     "metadata": {},
     "output_type": "execute_result"
    }
   ],
   "source": [
    "df.shape"
   ]
  },
  {
   "cell_type": "code",
   "execution_count": 4,
   "id": "9c25cb29",
   "metadata": {},
   "outputs": [
    {
     "data": {
      "text/html": [
       "<div>\n",
       "<style scoped>\n",
       "    .dataframe tbody tr th:only-of-type {\n",
       "        vertical-align: middle;\n",
       "    }\n",
       "\n",
       "    .dataframe tbody tr th {\n",
       "        vertical-align: top;\n",
       "    }\n",
       "\n",
       "    .dataframe thead th {\n",
       "        text-align: right;\n",
       "    }\n",
       "</style>\n",
       "<table border=\"1\" class=\"dataframe\">\n",
       "  <thead>\n",
       "    <tr style=\"text-align: right;\">\n",
       "      <th></th>\n",
       "      <th>Datetime</th>\n",
       "      <th>City</th>\n",
       "      <th>State</th>\n",
       "      <th>Narrative</th>\n",
       "      <th>Altitude</th>\n",
       "      <th>Separation</th>\n",
       "      <th>Aircraft</th>\n",
       "      <th>Flight_nr</th>\n",
       "      <th>Operator</th>\n",
       "      <th>id</th>\n",
       "      <th>Evasive_man</th>\n",
       "      <th>Source</th>\n",
       "      <th>Country</th>\n",
       "      <th>AircraftCategory</th>\n",
       "      <th>ReportId</th>\n",
       "    </tr>\n",
       "  </thead>\n",
       "  <tbody>\n",
       "    <tr>\n",
       "      <th>0</th>\n",
       "      <td>1997-08-03</td>\n",
       "      <td>Schopfheim</td>\n",
       "      <td>NaN</td>\n",
       "      <td>Collided in mid-air with a remote controlled a...</td>\n",
       "      <td>650</td>\n",
       "      <td>0</td>\n",
       "      <td>Grob G109B</td>\n",
       "      <td>NaN</td>\n",
       "      <td>NaN</td>\n",
       "      <td>2200</td>\n",
       "      <td>0</td>\n",
       "      <td>https://aviation-safety.net/wikibase/wiki.php?...</td>\n",
       "      <td>Germany</td>\n",
       "      <td>G</td>\n",
       "      <td>3X306-1/2/97</td>\n",
       "    </tr>\n",
       "    <tr>\n",
       "      <th>1</th>\n",
       "      <td>2004-06-24 15:21:00</td>\n",
       "      <td>Montréal/St-Hubert, QC (CYHU)</td>\n",
       "      <td>NaN</td>\n",
       "      <td>C-FTSJ, a Cargair Piper Aztec, reported that a...</td>\n",
       "      <td>NaN</td>\n",
       "      <td>NaN</td>\n",
       "      <td>Piper PA-23-250 Aztec</td>\n",
       "      <td>C-FTSJ</td>\n",
       "      <td>Cargair</td>\n",
       "      <td>3461</td>\n",
       "      <td>0</td>\n",
       "      <td>TC</td>\n",
       "      <td>Canada</td>\n",
       "      <td>G</td>\n",
       "      <td>2004Q0848</td>\n",
       "    </tr>\n",
       "    <tr>\n",
       "      <th>2</th>\n",
       "      <td>2004-07-30 22:35:00</td>\n",
       "      <td>Boundary Bay, BC (CZBB)</td>\n",
       "      <td>NaN</td>\n",
       "      <td>The pilot of C-FTUK a privately registered Rob...</td>\n",
       "      <td>NaN</td>\n",
       "      <td>NaN</td>\n",
       "      <td>Robinson R44</td>\n",
       "      <td>C-FTUK</td>\n",
       "      <td>Private</td>\n",
       "      <td>3460</td>\n",
       "      <td>0</td>\n",
       "      <td>TC</td>\n",
       "      <td>Canada</td>\n",
       "      <td>H</td>\n",
       "      <td>2004P1375</td>\n",
       "    </tr>\n",
       "    <tr>\n",
       "      <th>3</th>\n",
       "      <td>2006-02-08 23:09:00</td>\n",
       "      <td>CAMPBELL RIVER BC (CYBL)</td>\n",
       "      <td>NaN</td>\n",
       "      <td>The pilot of C-GHLZ a Robinson R22 owned by E ...</td>\n",
       "      <td>1000</td>\n",
       "      <td>NaN</td>\n",
       "      <td>Robinson R22</td>\n",
       "      <td>NaN</td>\n",
       "      <td>E &amp; B Helicopters</td>\n",
       "      <td>3463</td>\n",
       "      <td>0</td>\n",
       "      <td>TC</td>\n",
       "      <td>Canada</td>\n",
       "      <td>H</td>\n",
       "      <td>2006P0176</td>\n",
       "    </tr>\n",
       "    <tr>\n",
       "      <th>4</th>\n",
       "      <td>2006-06-17 16:22:00</td>\n",
       "      <td>ROBERVAL QC (CYRJ)</td>\n",
       "      <td>NaN</td>\n",
       "      <td>At 1622Z, when CGWGF was approximately 5 NM on...</td>\n",
       "      <td>NaN</td>\n",
       "      <td>NaN</td>\n",
       "      <td>Cessna TR182</td>\n",
       "      <td>C-GWGF</td>\n",
       "      <td>NaN</td>\n",
       "      <td>3464</td>\n",
       "      <td>0</td>\n",
       "      <td>TC</td>\n",
       "      <td>Canada</td>\n",
       "      <td>G</td>\n",
       "      <td>2006Q1193</td>\n",
       "    </tr>\n",
       "  </tbody>\n",
       "</table>\n",
       "</div>"
      ],
      "text/plain": [
       "              Datetime                           City State  \\\n",
       "0           1997-08-03                     Schopfheim   NaN   \n",
       "1  2004-06-24 15:21:00  Montréal/St-Hubert, QC (CYHU)   NaN   \n",
       "2  2004-07-30 22:35:00        Boundary Bay, BC (CZBB)   NaN   \n",
       "3  2006-02-08 23:09:00       CAMPBELL RIVER BC (CYBL)   NaN   \n",
       "4  2006-06-17 16:22:00             ROBERVAL QC (CYRJ)   NaN   \n",
       "\n",
       "                                           Narrative Altitude Separation  \\\n",
       "0  Collided in mid-air with a remote controlled a...      650          0   \n",
       "1  C-FTSJ, a Cargair Piper Aztec, reported that a...      NaN        NaN   \n",
       "2  The pilot of C-FTUK a privately registered Rob...      NaN        NaN   \n",
       "3  The pilot of C-GHLZ a Robinson R22 owned by E ...     1000        NaN   \n",
       "4  At 1622Z, when CGWGF was approximately 5 NM on...      NaN        NaN   \n",
       "\n",
       "                Aircraft Flight_nr           Operator    id  Evasive_man  \\\n",
       "0             Grob G109B       NaN                NaN  2200            0   \n",
       "1  Piper PA-23-250 Aztec    C-FTSJ            Cargair  3461            0   \n",
       "2           Robinson R44    C-FTUK            Private  3460            0   \n",
       "3           Robinson R22       NaN  E & B Helicopters  3463            0   \n",
       "4           Cessna TR182    C-GWGF                NaN  3464            0   \n",
       "\n",
       "                                              Source  Country  \\\n",
       "0  https://aviation-safety.net/wikibase/wiki.php?...  Germany   \n",
       "1                                                 TC   Canada   \n",
       "2                                                 TC   Canada   \n",
       "3                                                 TC   Canada   \n",
       "4                                                 TC   Canada   \n",
       "\n",
       "  AircraftCategory      ReportId  \n",
       "0                G  3X306-1/2/97  \n",
       "1                G     2004Q0848  \n",
       "2                H     2004P1375  \n",
       "3                H     2006P0176  \n",
       "4                G     2006Q1193  "
      ]
     },
     "execution_count": 4,
     "metadata": {},
     "output_type": "execute_result"
    }
   ],
   "source": [
    "# Mostramos las 5 primeras filas del dataset\n",
    "df.head()"
   ]
  },
  {
   "cell_type": "code",
   "execution_count": 5,
   "id": "bc65b045",
   "metadata": {},
   "outputs": [
    {
     "data": {
      "text/plain": [
       "NEW YORK                            587\n",
       "LOS ANGELES                         374\n",
       "CHICAGO                             305\n",
       "HOUSTON                             300\n",
       "New York                            275\n",
       "                                   ... \n",
       "Peoria                                1\n",
       "5305N 00002W 2nm E Coningsby ATZ      1\n",
       "Sydney Aerodrome, 040° T 11Km         1\n",
       "Southbridge                           1\n",
       "Lions Gate bridge, BC                 1\n",
       "Name: City, Length: 3415, dtype: int64"
      ]
     },
     "execution_count": 5,
     "metadata": {},
     "output_type": "execute_result"
    }
   ],
   "source": [
    "df.City.value_counts()"
   ]
  },
  {
   "cell_type": "code",
   "execution_count": 6,
   "id": "839027d2",
   "metadata": {},
   "outputs": [
    {
     "data": {
      "text/plain": [
       "(16723, 15)"
      ]
     },
     "execution_count": 6,
     "metadata": {},
     "output_type": "execute_result"
    }
   ],
   "source": [
    "# Eliminamos los registros que no tienen ciudad (en total son 27)\n",
    "df_without_city = df.dropna(subset=['City'])\n",
    "df_without_city.shape"
   ]
  },
  {
   "cell_type": "code",
   "execution_count": 7,
   "id": "af8e01b7",
   "metadata": {},
   "outputs": [
    {
     "data": {
      "text/plain": [
       "Cessna 172                1434\n",
       "Piper PA-28                762\n",
       "Airbus A320                747\n",
       "Boeing 737                 670\n",
       "Boeing 737-800             543\n",
       "                          ... \n",
       "ATR 42-500                   1\n",
       "Sikorsky S-76D               1\n",
       "Thorp T-18                   1\n",
       "Luscombe 8                   1\n",
       "Bombardier BD-700-1A10       1\n",
       "Name: Aircraft, Length: 1105, dtype: int64"
      ]
     },
     "execution_count": 7,
     "metadata": {},
     "output_type": "execute_result"
    }
   ],
   "source": [
    "df.Aircraft.value_counts()"
   ]
  },
  {
   "cell_type": "code",
   "execution_count": 8,
   "id": "d5b5e9ce",
   "metadata": {},
   "outputs": [
    {
     "data": {
      "text/plain": [
       "(16421, 15)"
      ]
     },
     "execution_count": 8,
     "metadata": {},
     "output_type": "execute_result"
    }
   ],
   "source": [
    "# Eliminamos los registros que no tienen valor en aeronave (en total son 302)\n",
    "df_without_acft = df_without_city.dropna(subset=['Aircraft'])\n",
    "df_without_acft.shape"
   ]
  },
  {
   "cell_type": "code",
   "execution_count": 9,
   "id": "9dc3f098",
   "metadata": {},
   "outputs": [
    {
     "data": {
      "text/plain": [
       "(16420, 15)"
      ]
     },
     "execution_count": 9,
     "metadata": {},
     "output_type": "execute_result"
    }
   ],
   "source": [
    "# Eliminamos la fila con valor NaN en la fuente (solo hay 1)\n",
    "df_without_source = df_without_acft.dropna(subset=['Source'])\n",
    "df_without_source.shape"
   ]
  },
  {
   "cell_type": "code",
   "execution_count": 10,
   "id": "e5af25d4",
   "metadata": {},
   "outputs": [
    {
     "data": {
      "text/plain": [
       "(16419, 15)"
      ]
     },
     "execution_count": 10,
     "metadata": {},
     "output_type": "execute_result"
    }
   ],
   "source": [
    "# Eliminamos la fila con valor NaN en en el país (solo hay 1)\n",
    "df_without_country = df_without_source.dropna(subset=['Country'])\n",
    "df_without_country.shape"
   ]
  },
  {
   "cell_type": "code",
   "execution_count": 11,
   "id": "51d905df",
   "metadata": {},
   "outputs": [
    {
     "data": {
      "text/plain": [
       "(16292, 15)"
      ]
     },
     "execution_count": 11,
     "metadata": {},
     "output_type": "execute_result"
    }
   ],
   "source": [
    "# Del campo AircraftCategory, eliminamos todos aquellos registros que no contengan los valores categóricos A, G, H, B o M:\n",
    "df_acft_category = df_without_country[df_without_country[\"AircraftCategory\"].str.contains(\"A|G|H|B|M\") == True]\n",
    "df_acft_category.shape"
   ]
  },
  {
   "cell_type": "code",
   "execution_count": 12,
   "id": "2bed67d4",
   "metadata": {},
   "outputs": [],
   "source": [
    "List_Of_Categories_In_Column = list(df_acft_category['Source'].value_counts().index)"
   ]
  },
  {
   "cell_type": "code",
   "execution_count": 13,
   "id": "7ebb9af4",
   "metadata": {},
   "outputs": [
    {
     "data": {
      "text/plain": [
       "['FAA',\n",
       " 'TC',\n",
       " 'ATSB',\n",
       " 'UKAB',\n",
       " 'ANSV',\n",
       " 'ASRS',\n",
       " 'FAA;ASRS',\n",
       " 'https://aet.gouvernement.lu/dam-assets/l-administration/aviation-civile/rapport-lx-lgg-uav-20180508-post-consultation-v2.pdf',\n",
       " 'STSB',\n",
       " 'TSB',\n",
       " 'https://uzpln.cz/pdf/20221020094447.pdf',\n",
       " 'FAVT',\n",
       " 'Dutch Safety Board',\n",
       " 'LiveATC',\n",
       " 'UZPLN',\n",
       " 'http://rr.sapo.pt/noticia/87173/incidente_com_drone_sexto_caso_so_em_junho',\n",
       " 'NBAAI',\n",
       " 'https://newyork.cbslocal.com/2019/01/22/drones-newark-airport-teterboro/',\n",
       " 'https://aviation-safety.net/wikibase/wiki.php?id=58711',\n",
       " 'https://turvallisuustutkinta.fi',\n",
       " 'https://www.geo.tv/latest/225585-sukkur-bound-flight-has-a-close-shave-with-a-drone-over-karachi-airport',\n",
       " 'https://www.airlineratings.com/news/virgin-plane-reports-close-shave-drone/',\n",
       " 'https://cnycentral.com/news/nation-world/sheriff-drone-flew-over-helicopter-dumping-water-on-oregon-wildfire',\n",
       " 'https://www.stuff.co.nz/national/109698433/call-for-public-assistance-after-police-eagle-helicopters-nearmiss-with-drone',\n",
       " 'https://hamodia.com/2018/12/31/drone-near-miss-idf-helicopter/',\n",
       " 'https://www.nzherald.co.nz/nz/news/article.cfm?c_id=1&objectid=12147174',\n",
       " 'https://www.cbc.ca/news/canada/new-brunswick/drone-pilot-helicopter-near-miss-1.5257938',\n",
       " 'https://dronedj.com/2018/08/17/near-miss-video-shows-risk-of-flying-drones-in-busy-airspace-as-helicopter-suddenly-appears-out-of-nowhere/',\n",
       " 'https://dev.by/news/dronemeetsboeing',\n",
       " 'AIAI',\n",
       " 'https://www.droneacademy.com/near-miss-at-niagara-falls/',\n",
       " 'https://www.presseportal.de/blaulicht/pm/6013/4726588',\n",
       " 'https://www.bbc.com/news/uk-england-49673373',\n",
       " 'OVV',\n",
       " 'NTSB',\n",
       " 'https://t.me/aviaincident/15465',\n",
       " 'BFU',\n",
       " 'https://t.me/aviaincident/14770',\n",
       " 'https://t.me/aviaincident/10632',\n",
       " 'https://www.presseportal.de/blaulicht/pm/57621/4946869',\n",
       " 'https://t.me/aviaincident/7006',\n",
       " 'https://ktul.com/news/local/a-near-miss-with-a-drone-and-a-crash-on-the-turnpike-heightens-stress-on-law-enforcement',\n",
       " 'BEA',\n",
       " 'https://aviation-safety.net/wikibase/wiki.php?id=244730',\n",
       " 'S.A. CAA',\n",
       " 'https://www.presseportal.de/blaulicht/pm/44151/4720106',\n",
       " 'https://www.presseportal.de/blaulicht/pm/6013/4710788',\n",
       " 'https://www.thedrive.com/the-war-zone/35763/air-force-one-just-had-a-near-miss-with-a-drone-according-to-reporter-onboard',\n",
       " 'https://www.stuff.co.nz/travel/travel-troubles/102635453/drone-has-near-miss-with-air-new-zealand-flight',\n",
       " 'http://www.theportugalnews.com/news/tap-plane-in-drone-near-miss/42363',\n",
       " 'https://aviation-safety.net/wikibase/wiki.php?id=203266',\n",
       " 'https://aviation-safety.net/wikibase/wiki.php?id=199929',\n",
       " 'https://www.bea.aero/no_cache/les-enquetes/les-evenements-notifies/',\n",
       " 'http://www.sust.admin.ch/pdfs/AV-berichte/HB-IYT_3.pdf',\n",
       " 'https://www.upinthesky.nl/2016/05/07/klm-737-vliegt-vlak-langs-drone/',\n",
       " 'http://www.uzpln.cz/cs/aktuality',\n",
       " 'ANP',\n",
       " 'http://www.nrk.no/hordaland/passasjerfly-naer-truffet-av-drone-1.12918369',\n",
       " 'http://www.independent.ie/irish-news/aer-lingus-plane-reportedly-dodges-collision-with-drone-over-paris-34647768.html',\n",
       " 'http://www.abc.net.au/news/2016-04-20/drone-in-near-miss-with-light-plane-in-adelaide:-casa/7339908?section=sa',\n",
       " 'https://aviation-safety.net/wikibase/wiki.php?id=185105',\n",
       " 'BFU15-0913-6X',\n",
       " 'https://assets.publishing.service.gov.uk/media/56975b79e5274a1175000011/Robin_DR_400-180_F-GSBM_model_glider_01-16.pdf',\n",
       " 'https://aviation-safety.net/wikibase/wiki.php?id=194228',\n",
       " 'AIBN',\n",
       " 'https://www.defensetech.org/2011/08/17/midair-collision-between-a-c-130-and-a-uav/',\n",
       " 'https://www.ntsb.gov/_layouts/ntsb.aviation/brief2.aspx?ev_id=20100819X52836&ntsbno=CEN10LA487&akey=1',\n",
       " 'http://www.odt.co.nz/news/world/australia/389539/helicopter-has-near-miss-drone',\n",
       " 'http://www.metronews.ca/news/edmonton/2016/08/05/edmonton-police-helicopter-has-a-near-miss-with-drone-.html',\n",
       " 'http://www.sunshinecoastdaily.com.au/news/drone-near-miss-couldve-brought-down-rescue-choppe/3071120/',\n",
       " 'http://www.shropshirelive.com/2017/05/23/helicopter-in-near-miss-with-drone-near-newport/',\n",
       " 'http://www.bostonherald.com/news/local_coverage/2017/08/faa_looking_into_near_collision_of_drone_chopper',\n",
       " 'http://uk.businessinsider.com/united-airlines-jet-missed-drone-landing-newark-airport-2017-7?r=US&IR=T',\n",
       " 'http://www.heliweb.com/drone-misses-helicopter-less-ten-feet/',\n",
       " 'http://aiai.mot.gov.il/NOTES/NAI_1195.pdf',\n",
       " 'http://www.presseportal.de/blaulicht/pm/68438/3647428',\n",
       " 'http://www.bbc.com/news/uk-scotland-glasgow-west-40099381',\n",
       " 'SUST',\n",
       " 'NTSB;FAA',\n",
       " 'http://www.stuff.co.nz/manawatu-standard/news/91503663/Palmerston-North-based-trainee-pilot-has-close-call-with-drone',\n",
       " 'http://www.perthnow.com.au/news/western-australia/aviation-authorities-probe-drone-near-miss/news-story/ebd986de6a4593e5664ad71b735b7eca',\n",
       " 'https://twitter.com/TomPodolec/status/842208373256904705',\n",
       " 'http://m.nzherald.co.nz/business/news/article.cfm?c_id=3&objectid=11696196',\n",
       " 'http://www.bbc.com/news/uk-england-cornwall-37042796',\n",
       " 'http://atwonline.com/safety/lufthansa-reports-near-miss-uav-munich',\n",
       " 'https://t.me/aviaincident/16532']"
      ]
     },
     "execution_count": 13,
     "metadata": {},
     "output_type": "execute_result"
    }
   ],
   "source": [
    "List_Of_Categories_In_Column"
   ]
  },
  {
   "cell_type": "markdown",
   "id": "7878445c",
   "metadata": {},
   "source": [
    "Así pues, nos quedaremos únicamente con aquellas filas cuya fuente sea un organismo oficial (normalmente, aquellos valores compuestos por siglas), y se descartarán todos aquellos valores cuya fuente sea un enlace a una página web o un enlace de Twitter. De esta manera, mediante una Expresión Regular, se pueden eliminar todos aquellos registros cuya fuente contenga un `http` o códigos extraños como `BFU15-0913-6X`:"
   ]
  },
  {
   "cell_type": "code",
   "execution_count": 14,
   "id": "7b4b3f0d",
   "metadata": {},
   "outputs": [
    {
     "data": {
      "text/plain": [
       "(16214, 15)"
      ]
     },
     "execution_count": 14,
     "metadata": {},
     "output_type": "execute_result"
    }
   ],
   "source": [
    "# Se identifica el string parcial\n",
    "descarte = ['http', 'BFU15-0913-6X']\n",
    "  \n",
    "# Eliminamos aquellas filas que contienen el string parcial \"http\":\n",
    "df_http = df_acft_category[~df_acft_category.Source.str.contains('|'.join(descarte))]\n",
    "df_http.shape"
   ]
  },
  {
   "cell_type": "code",
   "execution_count": 15,
   "id": "47485afc",
   "metadata": {},
   "outputs": [
    {
     "data": {
      "text/plain": [
       "FAA                   13791\n",
       "TC                      844\n",
       "ATSB                    656\n",
       "UKAB                    510\n",
       "ANSV                    223\n",
       "ASRS                    107\n",
       "FAA;ASRS                 35\n",
       "STSB                     11\n",
       "TSB                       8\n",
       "UZPLN                     4\n",
       "Dutch Safety Board        4\n",
       "FAVT                      4\n",
       "LiveATC                   4\n",
       "NBAAI                     3\n",
       "NTSB;FAA                  1\n",
       "ANP                       1\n",
       "SUST                      1\n",
       "AIAI                      1\n",
       "S.A. CAA                  1\n",
       "BEA                       1\n",
       "OVV                       1\n",
       "AIBN                      1\n",
       "BFU                       1\n",
       "NTSB                      1\n",
       "Name: Source, dtype: int64"
      ]
     },
     "execution_count": 15,
     "metadata": {},
     "output_type": "execute_result"
    }
   ],
   "source": [
    "df_http.Source.value_counts()"
   ]
  },
  {
   "cell_type": "markdown",
   "id": "06c46f4f",
   "metadata": {},
   "source": [
    "Ya está el dataset casi limpio. Están todos los registros eliminados con valores nulos o no válidos; ahora solo falta eliminar las columnas que no aportan información relevante o que tienen demasiados valores faltantes (NA) respecto al número total:"
   ]
  },
  {
   "cell_type": "code",
   "execution_count": 16,
   "id": "a9fbebd5",
   "metadata": {},
   "outputs": [],
   "source": [
    "df_clean = df_http.drop(columns=['Separation', 'Flight_nr', 'Operator', 'ReportId'])"
   ]
  },
  {
   "cell_type": "code",
   "execution_count": 17,
   "id": "c3482f78",
   "metadata": {},
   "outputs": [
    {
     "data": {
      "text/html": [
       "<div>\n",
       "<style scoped>\n",
       "    .dataframe tbody tr th:only-of-type {\n",
       "        vertical-align: middle;\n",
       "    }\n",
       "\n",
       "    .dataframe tbody tr th {\n",
       "        vertical-align: top;\n",
       "    }\n",
       "\n",
       "    .dataframe thead th {\n",
       "        text-align: right;\n",
       "    }\n",
       "</style>\n",
       "<table border=\"1\" class=\"dataframe\">\n",
       "  <thead>\n",
       "    <tr style=\"text-align: right;\">\n",
       "      <th></th>\n",
       "      <th>Datetime</th>\n",
       "      <th>City</th>\n",
       "      <th>State</th>\n",
       "      <th>Narrative</th>\n",
       "      <th>Altitude</th>\n",
       "      <th>Aircraft</th>\n",
       "      <th>id</th>\n",
       "      <th>Evasive_man</th>\n",
       "      <th>Source</th>\n",
       "      <th>Country</th>\n",
       "      <th>AircraftCategory</th>\n",
       "    </tr>\n",
       "  </thead>\n",
       "  <tbody>\n",
       "    <tr>\n",
       "      <th>1</th>\n",
       "      <td>2004-06-24 15:21:00</td>\n",
       "      <td>Montréal/St-Hubert, QC (CYHU)</td>\n",
       "      <td>NaN</td>\n",
       "      <td>C-FTSJ, a Cargair Piper Aztec, reported that a...</td>\n",
       "      <td>NaN</td>\n",
       "      <td>Piper PA-23-250 Aztec</td>\n",
       "      <td>3461</td>\n",
       "      <td>0</td>\n",
       "      <td>TC</td>\n",
       "      <td>Canada</td>\n",
       "      <td>G</td>\n",
       "    </tr>\n",
       "    <tr>\n",
       "      <th>2</th>\n",
       "      <td>2004-07-30 22:35:00</td>\n",
       "      <td>Boundary Bay, BC (CZBB)</td>\n",
       "      <td>NaN</td>\n",
       "      <td>The pilot of C-FTUK a privately registered Rob...</td>\n",
       "      <td>NaN</td>\n",
       "      <td>Robinson R44</td>\n",
       "      <td>3460</td>\n",
       "      <td>0</td>\n",
       "      <td>TC</td>\n",
       "      <td>Canada</td>\n",
       "      <td>H</td>\n",
       "    </tr>\n",
       "    <tr>\n",
       "      <th>3</th>\n",
       "      <td>2006-02-08 23:09:00</td>\n",
       "      <td>CAMPBELL RIVER BC (CYBL)</td>\n",
       "      <td>NaN</td>\n",
       "      <td>The pilot of C-GHLZ a Robinson R22 owned by E ...</td>\n",
       "      <td>1000</td>\n",
       "      <td>Robinson R22</td>\n",
       "      <td>3463</td>\n",
       "      <td>0</td>\n",
       "      <td>TC</td>\n",
       "      <td>Canada</td>\n",
       "      <td>H</td>\n",
       "    </tr>\n",
       "    <tr>\n",
       "      <th>4</th>\n",
       "      <td>2006-06-17 16:22:00</td>\n",
       "      <td>ROBERVAL QC (CYRJ)</td>\n",
       "      <td>NaN</td>\n",
       "      <td>At 1622Z, when CGWGF was approximately 5 NM on...</td>\n",
       "      <td>NaN</td>\n",
       "      <td>Cessna TR182</td>\n",
       "      <td>3464</td>\n",
       "      <td>0</td>\n",
       "      <td>TC</td>\n",
       "      <td>Canada</td>\n",
       "      <td>G</td>\n",
       "    </tr>\n",
       "    <tr>\n",
       "      <th>5</th>\n",
       "      <td>2006-07-24 22:50:00</td>\n",
       "      <td>SEPT-ÎLES QC (CYZV)</td>\n",
       "      <td>NaN</td>\n",
       "      <td>Model airplane activity was reported by a Cess...</td>\n",
       "      <td>NaN</td>\n",
       "      <td>Cessna 310</td>\n",
       "      <td>3533</td>\n",
       "      <td>0</td>\n",
       "      <td>TC</td>\n",
       "      <td>Chile</td>\n",
       "      <td>G</td>\n",
       "    </tr>\n",
       "  </tbody>\n",
       "</table>\n",
       "</div>"
      ],
      "text/plain": [
       "              Datetime                           City State  \\\n",
       "1  2004-06-24 15:21:00  Montréal/St-Hubert, QC (CYHU)   NaN   \n",
       "2  2004-07-30 22:35:00        Boundary Bay, BC (CZBB)   NaN   \n",
       "3  2006-02-08 23:09:00       CAMPBELL RIVER BC (CYBL)   NaN   \n",
       "4  2006-06-17 16:22:00             ROBERVAL QC (CYRJ)   NaN   \n",
       "5  2006-07-24 22:50:00            SEPT-ÎLES QC (CYZV)   NaN   \n",
       "\n",
       "                                           Narrative Altitude  \\\n",
       "1  C-FTSJ, a Cargair Piper Aztec, reported that a...      NaN   \n",
       "2  The pilot of C-FTUK a privately registered Rob...      NaN   \n",
       "3  The pilot of C-GHLZ a Robinson R22 owned by E ...     1000   \n",
       "4  At 1622Z, when CGWGF was approximately 5 NM on...      NaN   \n",
       "5  Model airplane activity was reported by a Cess...      NaN   \n",
       "\n",
       "                Aircraft    id  Evasive_man Source Country AircraftCategory  \n",
       "1  Piper PA-23-250 Aztec  3461            0     TC  Canada                G  \n",
       "2           Robinson R44  3460            0     TC  Canada                H  \n",
       "3           Robinson R22  3463            0     TC  Canada                H  \n",
       "4           Cessna TR182  3464            0     TC  Canada                G  \n",
       "5             Cessna 310  3533            0     TC   Chile                G  "
      ]
     },
     "execution_count": 17,
     "metadata": {},
     "output_type": "execute_result"
    }
   ],
   "source": [
    "df_clean.head()"
   ]
  },
  {
   "cell_type": "markdown",
   "id": "679a8fc2",
   "metadata": {},
   "source": [
    "El dataset ya está limpio. Solo falta un último detalle: la columna 'Datetime', conviene separarla en dos: una para mostrar la fecha y otra columna para mostrar la hora. Antes que nada, se van a eliminar aquellos registros que tienen `00` en el día; por ejemplo, hay registros cuya fecha es `2006-08-00` y no son válidos. Estos serán eliminados:"
   ]
  },
  {
   "cell_type": "code",
   "execution_count": 18,
   "id": "8a3f48f7",
   "metadata": {},
   "outputs": [
    {
     "data": {
      "text/plain": [
       "(16105, 11)"
      ]
     },
     "execution_count": 18,
     "metadata": {},
     "output_type": "execute_result"
    }
   ],
   "source": [
    "df1 = df_clean[df_clean[\"Datetime\"].str.contains(\"-00|  \") == False]  # OJO: False, para eliminar los registros\n",
    "df1.shape"
   ]
  },
  {
   "cell_type": "markdown",
   "id": "d9a9be00",
   "metadata": {},
   "source": [
    "Se han eliminado **109 registros** que contenían fechas con un `00` en el día de la fecha. Ahora seguimos cribando: lo siguiente será dividir la columna `Datetime` en dos columnas nuevas diferentes: una para la fecha (`Date`) y otra para la hora (`Time`):"
   ]
  },
  {
   "cell_type": "code",
   "execution_count": 19,
   "id": "51b0acea",
   "metadata": {},
   "outputs": [
    {
     "name": "stderr",
     "output_type": "stream",
     "text": [
      "C:\\Users\\romej\\AppData\\Local\\Temp\\ipykernel_18248\\2301633801.py:2: SettingWithCopyWarning: \n",
      "A value is trying to be set on a copy of a slice from a DataFrame.\n",
      "Try using .loc[row_indexer,col_indexer] = value instead\n",
      "\n",
      "See the caveats in the documentation: https://pandas.pydata.org/pandas-docs/stable/user_guide/indexing.html#returning-a-view-versus-a-copy\n",
      "  df1['Date'] = pd.to_datetime(df1['Datetime']).dt.date\n",
      "C:\\Users\\romej\\AppData\\Local\\Temp\\ipykernel_18248\\2301633801.py:3: SettingWithCopyWarning: \n",
      "A value is trying to be set on a copy of a slice from a DataFrame.\n",
      "Try using .loc[row_indexer,col_indexer] = value instead\n",
      "\n",
      "See the caveats in the documentation: https://pandas.pydata.org/pandas-docs/stable/user_guide/indexing.html#returning-a-view-versus-a-copy\n",
      "  df1['Time'] = pd.to_datetime(df1['Datetime']).dt.time\n"
     ]
    }
   ],
   "source": [
    "# Dividimos la columna Datetime en dos variables separadas\n",
    "df1['Date'] = pd.to_datetime(df1['Datetime']).dt.date\n",
    "df1['Time'] = pd.to_datetime(df1['Datetime']).dt.time\n",
    "\n",
    "# Una vez dividida, eliminamos la variable Datetime ya que es redundante:\n",
    "df2 = df1.drop(columns=['Datetime'])"
   ]
  },
  {
   "cell_type": "markdown",
   "id": "92233e89",
   "metadata": {},
   "source": [
    "Por último, pasamos los valores de la fecha `Date` de formato `yyyy-mm-dd` a `dd-mm-yyyy`: "
   ]
  },
  {
   "cell_type": "code",
   "execution_count": 20,
   "id": "d889e335",
   "metadata": {},
   "outputs": [],
   "source": [
    "# df2[\"Date\"] = pd.to_datetime(df2['Date'], format='%Y-%m-%d').dt.strftime('%d-%m-%Y')"
   ]
  },
  {
   "cell_type": "code",
   "execution_count": 21,
   "id": "1a6f80a5",
   "metadata": {},
   "outputs": [
    {
     "data": {
      "text/plain": [
       "00:00:00    12535\n",
       "17:00:00       22\n",
       "16:00:00       20\n",
       "14:00:00       18\n",
       "18:30:00       18\n",
       "            ...  \n",
       "05:20:00        1\n",
       "05:42:00        1\n",
       "03:52:00        1\n",
       "17:16:00        1\n",
       "02:54:00        1\n",
       "Name: Time, Length: 1010, dtype: int64"
      ]
     },
     "execution_count": 21,
     "metadata": {},
     "output_type": "execute_result"
    }
   ],
   "source": [
    "df2.Time.value_counts()"
   ]
  },
  {
   "cell_type": "markdown",
   "id": "0b46b077",
   "metadata": {},
   "source": [
    "Como hay 12535 registros con valores nulos en la columna \"tiempo\" (`Time`), se eliminará este atributo y se dejará únicamente el de la fecha:"
   ]
  },
  {
   "cell_type": "code",
   "execution_count": 22,
   "id": "6a22a714",
   "metadata": {},
   "outputs": [],
   "source": [
    "drones = df1[['Date', 'City', 'State', 'Country', 'Narrative', 'Source', \n",
    "              'Altitude', 'Aircraft', 'AircraftCategory', 'Evasive_man']]"
   ]
  },
  {
   "cell_type": "code",
   "execution_count": 23,
   "id": "95b3460a",
   "metadata": {},
   "outputs": [
    {
     "data": {
      "text/html": [
       "<div>\n",
       "<style scoped>\n",
       "    .dataframe tbody tr th:only-of-type {\n",
       "        vertical-align: middle;\n",
       "    }\n",
       "\n",
       "    .dataframe tbody tr th {\n",
       "        vertical-align: top;\n",
       "    }\n",
       "\n",
       "    .dataframe thead th {\n",
       "        text-align: right;\n",
       "    }\n",
       "</style>\n",
       "<table border=\"1\" class=\"dataframe\">\n",
       "  <thead>\n",
       "    <tr style=\"text-align: right;\">\n",
       "      <th></th>\n",
       "      <th>Date</th>\n",
       "      <th>City</th>\n",
       "      <th>State</th>\n",
       "      <th>Country</th>\n",
       "      <th>Narrative</th>\n",
       "      <th>Source</th>\n",
       "      <th>Altitude</th>\n",
       "      <th>Aircraft</th>\n",
       "      <th>AircraftCategory</th>\n",
       "      <th>Evasive_man</th>\n",
       "    </tr>\n",
       "  </thead>\n",
       "  <tbody>\n",
       "    <tr>\n",
       "      <th>1</th>\n",
       "      <td>2004-06-24</td>\n",
       "      <td>Montréal/St-Hubert, QC (CYHU)</td>\n",
       "      <td>NaN</td>\n",
       "      <td>Canada</td>\n",
       "      <td>C-FTSJ, a Cargair Piper Aztec, reported that a...</td>\n",
       "      <td>TC</td>\n",
       "      <td>NaN</td>\n",
       "      <td>Piper PA-23-250 Aztec</td>\n",
       "      <td>G</td>\n",
       "      <td>0</td>\n",
       "    </tr>\n",
       "    <tr>\n",
       "      <th>2</th>\n",
       "      <td>2004-07-30</td>\n",
       "      <td>Boundary Bay, BC (CZBB)</td>\n",
       "      <td>NaN</td>\n",
       "      <td>Canada</td>\n",
       "      <td>The pilot of C-FTUK a privately registered Rob...</td>\n",
       "      <td>TC</td>\n",
       "      <td>NaN</td>\n",
       "      <td>Robinson R44</td>\n",
       "      <td>H</td>\n",
       "      <td>0</td>\n",
       "    </tr>\n",
       "    <tr>\n",
       "      <th>3</th>\n",
       "      <td>2006-02-08</td>\n",
       "      <td>CAMPBELL RIVER BC (CYBL)</td>\n",
       "      <td>NaN</td>\n",
       "      <td>Canada</td>\n",
       "      <td>The pilot of C-GHLZ a Robinson R22 owned by E ...</td>\n",
       "      <td>TC</td>\n",
       "      <td>1000</td>\n",
       "      <td>Robinson R22</td>\n",
       "      <td>H</td>\n",
       "      <td>0</td>\n",
       "    </tr>\n",
       "    <tr>\n",
       "      <th>4</th>\n",
       "      <td>2006-06-17</td>\n",
       "      <td>ROBERVAL QC (CYRJ)</td>\n",
       "      <td>NaN</td>\n",
       "      <td>Canada</td>\n",
       "      <td>At 1622Z, when CGWGF was approximately 5 NM on...</td>\n",
       "      <td>TC</td>\n",
       "      <td>NaN</td>\n",
       "      <td>Cessna TR182</td>\n",
       "      <td>G</td>\n",
       "      <td>0</td>\n",
       "    </tr>\n",
       "    <tr>\n",
       "      <th>5</th>\n",
       "      <td>2006-07-24</td>\n",
       "      <td>SEPT-ÎLES QC (CYZV)</td>\n",
       "      <td>NaN</td>\n",
       "      <td>Chile</td>\n",
       "      <td>Model airplane activity was reported by a Cess...</td>\n",
       "      <td>TC</td>\n",
       "      <td>NaN</td>\n",
       "      <td>Cessna 310</td>\n",
       "      <td>G</td>\n",
       "      <td>0</td>\n",
       "    </tr>\n",
       "    <tr>\n",
       "      <th>...</th>\n",
       "      <td>...</td>\n",
       "      <td>...</td>\n",
       "      <td>...</td>\n",
       "      <td>...</td>\n",
       "      <td>...</td>\n",
       "      <td>...</td>\n",
       "      <td>...</td>\n",
       "      <td>...</td>\n",
       "      <td>...</td>\n",
       "      <td>...</td>\n",
       "    </tr>\n",
       "    <tr>\n",
       "      <th>16742</th>\n",
       "      <td>2022-09-27</td>\n",
       "      <td>CHARLOTTE</td>\n",
       "      <td>NORTH CAROLINA</td>\n",
       "      <td>USA</td>\n",
       "      <td>PRELIM INFO FROM FAA OPS: CHARLOTTE, NC/UAS SI...</td>\n",
       "      <td>FAA</td>\n",
       "      <td>9000</td>\n",
       "      <td>CRJ-900</td>\n",
       "      <td>A</td>\n",
       "      <td>0</td>\n",
       "    </tr>\n",
       "    <tr>\n",
       "      <th>16744</th>\n",
       "      <td>2022-09-29</td>\n",
       "      <td>Lions Gate bridge, BC</td>\n",
       "      <td>NaN</td>\n",
       "      <td>Canada</td>\n",
       "      <td>A Gulf Island Seaplanes de Havilland DHC-2 MK....</td>\n",
       "      <td>TC</td>\n",
       "      <td>800</td>\n",
       "      <td>DHC-2</td>\n",
       "      <td>A</td>\n",
       "      <td>0</td>\n",
       "    </tr>\n",
       "    <tr>\n",
       "      <th>16746</th>\n",
       "      <td>2022-10-05</td>\n",
       "      <td>Toronto/Lester B. Pearson, ON (CYYZ)</td>\n",
       "      <td>NaN</td>\n",
       "      <td>Canada</td>\n",
       "      <td>A WestJet Boeing 737-7CT (C-GWSN/WJA660) from ...</td>\n",
       "      <td>TC</td>\n",
       "      <td>NaN</td>\n",
       "      <td>Boeing 737-7CT</td>\n",
       "      <td>A</td>\n",
       "      <td>0</td>\n",
       "    </tr>\n",
       "    <tr>\n",
       "      <th>16747</th>\n",
       "      <td>2022-10-18</td>\n",
       "      <td>Calgary, AB (CYYC)</td>\n",
       "      <td>NaN</td>\n",
       "      <td>Canada</td>\n",
       "      <td>A WestJet Boeing 737-700 (WJA267) from Winnipe...</td>\n",
       "      <td>TC</td>\n",
       "      <td>NaN</td>\n",
       "      <td>Boeing 737-7CT</td>\n",
       "      <td>A</td>\n",
       "      <td>0</td>\n",
       "    </tr>\n",
       "    <tr>\n",
       "      <th>16749</th>\n",
       "      <td>2022-11-03</td>\n",
       "      <td>Montreal, QC</td>\n",
       "      <td>NaN</td>\n",
       "      <td>Canada</td>\n",
       "      <td>An Aviation Starlink Bombardier BD-700-1A10 (C...</td>\n",
       "      <td>TC</td>\n",
       "      <td>NaN</td>\n",
       "      <td>Bombardier BD-700-1A10</td>\n",
       "      <td>B</td>\n",
       "      <td>0</td>\n",
       "    </tr>\n",
       "  </tbody>\n",
       "</table>\n",
       "<p>16105 rows × 10 columns</p>\n",
       "</div>"
      ],
      "text/plain": [
       "             Date                                  City           State  \\\n",
       "1      2004-06-24         Montréal/St-Hubert, QC (CYHU)             NaN   \n",
       "2      2004-07-30               Boundary Bay, BC (CZBB)             NaN   \n",
       "3      2006-02-08              CAMPBELL RIVER BC (CYBL)             NaN   \n",
       "4      2006-06-17                    ROBERVAL QC (CYRJ)             NaN   \n",
       "5      2006-07-24                   SEPT-ÎLES QC (CYZV)             NaN   \n",
       "...           ...                                   ...             ...   \n",
       "16742  2022-09-27                             CHARLOTTE  NORTH CAROLINA   \n",
       "16744  2022-09-29                 Lions Gate bridge, BC             NaN   \n",
       "16746  2022-10-05  Toronto/Lester B. Pearson, ON (CYYZ)             NaN   \n",
       "16747  2022-10-18                    Calgary, AB (CYYC)             NaN   \n",
       "16749  2022-11-03                          Montreal, QC             NaN   \n",
       "\n",
       "      Country                                          Narrative Source  \\\n",
       "1      Canada  C-FTSJ, a Cargair Piper Aztec, reported that a...     TC   \n",
       "2      Canada  The pilot of C-FTUK a privately registered Rob...     TC   \n",
       "3      Canada  The pilot of C-GHLZ a Robinson R22 owned by E ...     TC   \n",
       "4      Canada  At 1622Z, when CGWGF was approximately 5 NM on...     TC   \n",
       "5       Chile  Model airplane activity was reported by a Cess...     TC   \n",
       "...       ...                                                ...    ...   \n",
       "16742     USA  PRELIM INFO FROM FAA OPS: CHARLOTTE, NC/UAS SI...    FAA   \n",
       "16744  Canada  A Gulf Island Seaplanes de Havilland DHC-2 MK....     TC   \n",
       "16746  Canada  A WestJet Boeing 737-7CT (C-GWSN/WJA660) from ...     TC   \n",
       "16747  Canada  A WestJet Boeing 737-700 (WJA267) from Winnipe...     TC   \n",
       "16749  Canada  An Aviation Starlink Bombardier BD-700-1A10 (C...     TC   \n",
       "\n",
       "      Altitude                Aircraft AircraftCategory  Evasive_man  \n",
       "1          NaN   Piper PA-23-250 Aztec                G            0  \n",
       "2          NaN            Robinson R44                H            0  \n",
       "3         1000            Robinson R22                H            0  \n",
       "4          NaN            Cessna TR182                G            0  \n",
       "5          NaN              Cessna 310                G            0  \n",
       "...        ...                     ...              ...          ...  \n",
       "16742     9000                 CRJ-900                A            0  \n",
       "16744      800                   DHC-2                A            0  \n",
       "16746      NaN          Boeing 737-7CT                A            0  \n",
       "16747      NaN          Boeing 737-7CT                A            0  \n",
       "16749      NaN  Bombardier BD-700-1A10                B            0  \n",
       "\n",
       "[16105 rows x 10 columns]"
      ]
     },
     "execution_count": 23,
     "metadata": {},
     "output_type": "execute_result"
    }
   ],
   "source": [
    "drones"
   ]
  },
  {
   "cell_type": "markdown",
   "id": "4f01f617",
   "metadata": {},
   "source": [
    "---\n",
    "\n",
    "Vamos a centrarnos ahora en la única variable numérica que ha quedado: `Altitude` (expresada en pies `ft.`). Primero vamos a unificar criterios, y dejar solo un número, puesto que hay valores expresados como `1000-1200`. Vamos a dejar solo el primer valor y eliminar todo lo que venga después del guion:"
   ]
  },
  {
   "cell_type": "code",
   "execution_count": 24,
   "id": "ec577aa4",
   "metadata": {},
   "outputs": [
    {
     "name": "stderr",
     "output_type": "stream",
     "text": [
      "C:\\Users\\romej\\AppData\\Local\\Temp\\ipykernel_18248\\3028588228.py:2: SettingWithCopyWarning: \n",
      "A value is trying to be set on a copy of a slice from a DataFrame.\n",
      "Try using .loc[row_indexer,col_indexer] = value instead\n",
      "\n",
      "See the caveats in the documentation: https://pandas.pydata.org/pandas-docs/stable/user_guide/indexing.html#returning-a-view-versus-a-copy\n",
      "  drones['Altitude'] = drones['Altitude'].str.split('-').str[0]\n"
     ]
    }
   ],
   "source": [
    "# Eliminamos todos los números después del guion para unificar criterios\n",
    "drones['Altitude'] = drones['Altitude'].str.split('-').str[0]"
   ]
  },
  {
   "cell_type": "code",
   "execution_count": 25,
   "id": "1cf84eae",
   "metadata": {},
   "outputs": [
    {
     "data": {
      "text/plain": [
       "3000     634\n",
       "2000     618\n",
       "4000     476\n",
       "1000     436\n",
       "1500     416\n",
       "        ... \n",
       "28200      1\n",
       "9600       1\n",
       "330        1\n",
       "26         1\n",
       "16800      1\n",
       "Name: Altitude, Length: 229, dtype: int64"
      ]
     },
     "execution_count": 25,
     "metadata": {},
     "output_type": "execute_result"
    }
   ],
   "source": [
    "drones.Altitude.value_counts()"
   ]
  },
  {
   "cell_type": "markdown",
   "id": "ba3fa203",
   "metadata": {},
   "source": [
    "De todos los valores, hay tres que no son numéricos: `WHILE AT13`, `FL180` y `BOUND AT15`. Averiguamos el índice de esos valores, es decir, qué posición o fila ocupan en el dataset, y los borramos del conjunto.\n",
    "NOTA: lo más fácil sería eliminar todos aquellos valores no numéricos mediante RegEx, pero también eliminan los NaN values."
   ]
  },
  {
   "cell_type": "code",
   "execution_count": 26,
   "id": "cf2ae152",
   "metadata": {},
   "outputs": [],
   "source": [
    "a = drones[((drones.Altitude == 'WHILE AT13'))].index\n",
    "b = drones[((drones.Altitude == 'FL180'))].index\n",
    "c = drones[((drones.Altitude == 'BOUND AT15'))].index"
   ]
  },
  {
   "cell_type": "code",
   "execution_count": 27,
   "id": "e9aea8c5",
   "metadata": {},
   "outputs": [],
   "source": [
    "drones = drones.drop(a)\n",
    "drones = drones.drop(b)\n",
    "drones = drones.drop(c)"
   ]
  },
  {
   "cell_type": "code",
   "execution_count": 28,
   "id": "17e2e2b5",
   "metadata": {},
   "outputs": [],
   "source": [
    "# Una vez limpiado, convertimos la columna Altitud en numérica en lugar de string:\n",
    "drones[\"Altitude\"] = pd.to_numeric(drones[\"Altitude\"])"
   ]
  },
  {
   "cell_type": "code",
   "execution_count": 29,
   "id": "80410af0",
   "metadata": {},
   "outputs": [
    {
     "data": {
      "text/html": [
       "<div>\n",
       "<style scoped>\n",
       "    .dataframe tbody tr th:only-of-type {\n",
       "        vertical-align: middle;\n",
       "    }\n",
       "\n",
       "    .dataframe tbody tr th {\n",
       "        vertical-align: top;\n",
       "    }\n",
       "\n",
       "    .dataframe thead th {\n",
       "        text-align: right;\n",
       "    }\n",
       "</style>\n",
       "<table border=\"1\" class=\"dataframe\">\n",
       "  <thead>\n",
       "    <tr style=\"text-align: right;\">\n",
       "      <th></th>\n",
       "      <th>Date</th>\n",
       "      <th>City</th>\n",
       "      <th>State</th>\n",
       "      <th>Country</th>\n",
       "      <th>Narrative</th>\n",
       "      <th>Source</th>\n",
       "      <th>Altitude</th>\n",
       "      <th>Aircraft</th>\n",
       "      <th>AircraftCategory</th>\n",
       "      <th>Evasive_man</th>\n",
       "    </tr>\n",
       "  </thead>\n",
       "  <tbody>\n",
       "    <tr>\n",
       "      <th>1</th>\n",
       "      <td>2004-06-24</td>\n",
       "      <td>Montréal/St-Hubert, QC (CYHU)</td>\n",
       "      <td>NaN</td>\n",
       "      <td>Canada</td>\n",
       "      <td>C-FTSJ, a Cargair Piper Aztec, reported that a...</td>\n",
       "      <td>TC</td>\n",
       "      <td>NaN</td>\n",
       "      <td>Piper PA-23-250 Aztec</td>\n",
       "      <td>G</td>\n",
       "      <td>0</td>\n",
       "    </tr>\n",
       "    <tr>\n",
       "      <th>2</th>\n",
       "      <td>2004-07-30</td>\n",
       "      <td>Boundary Bay, BC (CZBB)</td>\n",
       "      <td>NaN</td>\n",
       "      <td>Canada</td>\n",
       "      <td>The pilot of C-FTUK a privately registered Rob...</td>\n",
       "      <td>TC</td>\n",
       "      <td>NaN</td>\n",
       "      <td>Robinson R44</td>\n",
       "      <td>H</td>\n",
       "      <td>0</td>\n",
       "    </tr>\n",
       "    <tr>\n",
       "      <th>3</th>\n",
       "      <td>2006-02-08</td>\n",
       "      <td>CAMPBELL RIVER BC (CYBL)</td>\n",
       "      <td>NaN</td>\n",
       "      <td>Canada</td>\n",
       "      <td>The pilot of C-GHLZ a Robinson R22 owned by E ...</td>\n",
       "      <td>TC</td>\n",
       "      <td>1000.0</td>\n",
       "      <td>Robinson R22</td>\n",
       "      <td>H</td>\n",
       "      <td>0</td>\n",
       "    </tr>\n",
       "    <tr>\n",
       "      <th>4</th>\n",
       "      <td>2006-06-17</td>\n",
       "      <td>ROBERVAL QC (CYRJ)</td>\n",
       "      <td>NaN</td>\n",
       "      <td>Canada</td>\n",
       "      <td>At 1622Z, when CGWGF was approximately 5 NM on...</td>\n",
       "      <td>TC</td>\n",
       "      <td>NaN</td>\n",
       "      <td>Cessna TR182</td>\n",
       "      <td>G</td>\n",
       "      <td>0</td>\n",
       "    </tr>\n",
       "    <tr>\n",
       "      <th>5</th>\n",
       "      <td>2006-07-24</td>\n",
       "      <td>SEPT-ÎLES QC (CYZV)</td>\n",
       "      <td>NaN</td>\n",
       "      <td>Chile</td>\n",
       "      <td>Model airplane activity was reported by a Cess...</td>\n",
       "      <td>TC</td>\n",
       "      <td>NaN</td>\n",
       "      <td>Cessna 310</td>\n",
       "      <td>G</td>\n",
       "      <td>0</td>\n",
       "    </tr>\n",
       "    <tr>\n",
       "      <th>...</th>\n",
       "      <td>...</td>\n",
       "      <td>...</td>\n",
       "      <td>...</td>\n",
       "      <td>...</td>\n",
       "      <td>...</td>\n",
       "      <td>...</td>\n",
       "      <td>...</td>\n",
       "      <td>...</td>\n",
       "      <td>...</td>\n",
       "      <td>...</td>\n",
       "    </tr>\n",
       "    <tr>\n",
       "      <th>16742</th>\n",
       "      <td>2022-09-27</td>\n",
       "      <td>CHARLOTTE</td>\n",
       "      <td>NORTH CAROLINA</td>\n",
       "      <td>USA</td>\n",
       "      <td>PRELIM INFO FROM FAA OPS: CHARLOTTE, NC/UAS SI...</td>\n",
       "      <td>FAA</td>\n",
       "      <td>9000.0</td>\n",
       "      <td>CRJ-900</td>\n",
       "      <td>A</td>\n",
       "      <td>0</td>\n",
       "    </tr>\n",
       "    <tr>\n",
       "      <th>16744</th>\n",
       "      <td>2022-09-29</td>\n",
       "      <td>Lions Gate bridge, BC</td>\n",
       "      <td>NaN</td>\n",
       "      <td>Canada</td>\n",
       "      <td>A Gulf Island Seaplanes de Havilland DHC-2 MK....</td>\n",
       "      <td>TC</td>\n",
       "      <td>800.0</td>\n",
       "      <td>DHC-2</td>\n",
       "      <td>A</td>\n",
       "      <td>0</td>\n",
       "    </tr>\n",
       "    <tr>\n",
       "      <th>16746</th>\n",
       "      <td>2022-10-05</td>\n",
       "      <td>Toronto/Lester B. Pearson, ON (CYYZ)</td>\n",
       "      <td>NaN</td>\n",
       "      <td>Canada</td>\n",
       "      <td>A WestJet Boeing 737-7CT (C-GWSN/WJA660) from ...</td>\n",
       "      <td>TC</td>\n",
       "      <td>NaN</td>\n",
       "      <td>Boeing 737-7CT</td>\n",
       "      <td>A</td>\n",
       "      <td>0</td>\n",
       "    </tr>\n",
       "    <tr>\n",
       "      <th>16747</th>\n",
       "      <td>2022-10-18</td>\n",
       "      <td>Calgary, AB (CYYC)</td>\n",
       "      <td>NaN</td>\n",
       "      <td>Canada</td>\n",
       "      <td>A WestJet Boeing 737-700 (WJA267) from Winnipe...</td>\n",
       "      <td>TC</td>\n",
       "      <td>NaN</td>\n",
       "      <td>Boeing 737-7CT</td>\n",
       "      <td>A</td>\n",
       "      <td>0</td>\n",
       "    </tr>\n",
       "    <tr>\n",
       "      <th>16749</th>\n",
       "      <td>2022-11-03</td>\n",
       "      <td>Montreal, QC</td>\n",
       "      <td>NaN</td>\n",
       "      <td>Canada</td>\n",
       "      <td>An Aviation Starlink Bombardier BD-700-1A10 (C...</td>\n",
       "      <td>TC</td>\n",
       "      <td>NaN</td>\n",
       "      <td>Bombardier BD-700-1A10</td>\n",
       "      <td>B</td>\n",
       "      <td>0</td>\n",
       "    </tr>\n",
       "  </tbody>\n",
       "</table>\n",
       "<p>16102 rows × 10 columns</p>\n",
       "</div>"
      ],
      "text/plain": [
       "             Date                                  City           State  \\\n",
       "1      2004-06-24         Montréal/St-Hubert, QC (CYHU)             NaN   \n",
       "2      2004-07-30               Boundary Bay, BC (CZBB)             NaN   \n",
       "3      2006-02-08              CAMPBELL RIVER BC (CYBL)             NaN   \n",
       "4      2006-06-17                    ROBERVAL QC (CYRJ)             NaN   \n",
       "5      2006-07-24                   SEPT-ÎLES QC (CYZV)             NaN   \n",
       "...           ...                                   ...             ...   \n",
       "16742  2022-09-27                             CHARLOTTE  NORTH CAROLINA   \n",
       "16744  2022-09-29                 Lions Gate bridge, BC             NaN   \n",
       "16746  2022-10-05  Toronto/Lester B. Pearson, ON (CYYZ)             NaN   \n",
       "16747  2022-10-18                    Calgary, AB (CYYC)             NaN   \n",
       "16749  2022-11-03                          Montreal, QC             NaN   \n",
       "\n",
       "      Country                                          Narrative Source  \\\n",
       "1      Canada  C-FTSJ, a Cargair Piper Aztec, reported that a...     TC   \n",
       "2      Canada  The pilot of C-FTUK a privately registered Rob...     TC   \n",
       "3      Canada  The pilot of C-GHLZ a Robinson R22 owned by E ...     TC   \n",
       "4      Canada  At 1622Z, when CGWGF was approximately 5 NM on...     TC   \n",
       "5       Chile  Model airplane activity was reported by a Cess...     TC   \n",
       "...       ...                                                ...    ...   \n",
       "16742     USA  PRELIM INFO FROM FAA OPS: CHARLOTTE, NC/UAS SI...    FAA   \n",
       "16744  Canada  A Gulf Island Seaplanes de Havilland DHC-2 MK....     TC   \n",
       "16746  Canada  A WestJet Boeing 737-7CT (C-GWSN/WJA660) from ...     TC   \n",
       "16747  Canada  A WestJet Boeing 737-700 (WJA267) from Winnipe...     TC   \n",
       "16749  Canada  An Aviation Starlink Bombardier BD-700-1A10 (C...     TC   \n",
       "\n",
       "       Altitude                Aircraft AircraftCategory  Evasive_man  \n",
       "1           NaN   Piper PA-23-250 Aztec                G            0  \n",
       "2           NaN            Robinson R44                H            0  \n",
       "3        1000.0            Robinson R22                H            0  \n",
       "4           NaN            Cessna TR182                G            0  \n",
       "5           NaN              Cessna 310                G            0  \n",
       "...         ...                     ...              ...          ...  \n",
       "16742    9000.0                 CRJ-900                A            0  \n",
       "16744     800.0                   DHC-2                A            0  \n",
       "16746       NaN          Boeing 737-7CT                A            0  \n",
       "16747       NaN          Boeing 737-7CT                A            0  \n",
       "16749       NaN  Bombardier BD-700-1A10                B            0  \n",
       "\n",
       "[16102 rows x 10 columns]"
      ]
     },
     "execution_count": 29,
     "metadata": {},
     "output_type": "execute_result"
    }
   ],
   "source": [
    "drones"
   ]
  },
  {
   "cell_type": "markdown",
   "id": "f42401a0",
   "metadata": {},
   "source": [
    "Un último detalle: en la columna `City` y `State` hay muchos valores repetidos porque a veces el estado está escrito en mayúsculas y a veces en minúsculas, de tal forma que podemos encontrar `WASHINGTON` y `Washington`. Para unificar criterios, se van a convertir todos los nombres de Estados en mayúsculas, así no habrá duplicidades:"
   ]
  },
  {
   "cell_type": "code",
   "execution_count": 30,
   "id": "ecee8d8c",
   "metadata": {},
   "outputs": [],
   "source": [
    "drones[\"State\"] = drones[\"State\"].str.upper()"
   ]
  },
  {
   "cell_type": "code",
   "execution_count": 31,
   "id": "c507375a",
   "metadata": {},
   "outputs": [],
   "source": [
    "drones[\"City\"] = drones[\"City\"].str.upper()"
   ]
  },
  {
   "cell_type": "code",
   "execution_count": 32,
   "id": "ed5ae5e3",
   "metadata": {},
   "outputs": [],
   "source": [
    "# Eliminamos duplicidades al eliminar todas aquellas ciudades que se llamaban igual\n",
    "# pero que añadían las coordenadas o algún elemento innecesario después de una coma\n",
    "drones['City'] = drones['City'].str.split(',').str[0]"
   ]
  },
  {
   "cell_type": "code",
   "execution_count": 35,
   "id": "758b96cc",
   "metadata": {},
   "outputs": [],
   "source": [
    "# Eliminamos duplicidades al eliminar todas aquellas ciudades que se llamaban igual\n",
    "# pero que añadían las coordenadas o algún elemento innecesario después de una coma\n",
    "drones['City'] = drones['City'].str.split('AERODROME').str[0]"
   ]
  },
  {
   "cell_type": "code",
   "execution_count": 36,
   "id": "500de8af",
   "metadata": {},
   "outputs": [
    {
     "data": {
      "text/html": [
       "<div>\n",
       "<style scoped>\n",
       "    .dataframe tbody tr th:only-of-type {\n",
       "        vertical-align: middle;\n",
       "    }\n",
       "\n",
       "    .dataframe tbody tr th {\n",
       "        vertical-align: top;\n",
       "    }\n",
       "\n",
       "    .dataframe thead th {\n",
       "        text-align: right;\n",
       "    }\n",
       "</style>\n",
       "<table border=\"1\" class=\"dataframe\">\n",
       "  <thead>\n",
       "    <tr style=\"text-align: right;\">\n",
       "      <th></th>\n",
       "      <th>Date</th>\n",
       "      <th>City</th>\n",
       "      <th>State</th>\n",
       "      <th>Country</th>\n",
       "      <th>Narrative</th>\n",
       "      <th>Source</th>\n",
       "      <th>Altitude</th>\n",
       "      <th>Aircraft</th>\n",
       "      <th>AircraftCategory</th>\n",
       "      <th>Evasive_man</th>\n",
       "    </tr>\n",
       "  </thead>\n",
       "  <tbody>\n",
       "    <tr>\n",
       "      <th>1</th>\n",
       "      <td>2004-06-24</td>\n",
       "      <td>MONTRÉAL/ST-HUBERT</td>\n",
       "      <td>NaN</td>\n",
       "      <td>Canada</td>\n",
       "      <td>C-FTSJ, a Cargair Piper Aztec, reported that a...</td>\n",
       "      <td>TC</td>\n",
       "      <td>NaN</td>\n",
       "      <td>Piper PA-23-250 Aztec</td>\n",
       "      <td>G</td>\n",
       "      <td>0</td>\n",
       "    </tr>\n",
       "    <tr>\n",
       "      <th>2</th>\n",
       "      <td>2004-07-30</td>\n",
       "      <td>BOUNDARY BAY</td>\n",
       "      <td>NaN</td>\n",
       "      <td>Canada</td>\n",
       "      <td>The pilot of C-FTUK a privately registered Rob...</td>\n",
       "      <td>TC</td>\n",
       "      <td>NaN</td>\n",
       "      <td>Robinson R44</td>\n",
       "      <td>H</td>\n",
       "      <td>0</td>\n",
       "    </tr>\n",
       "    <tr>\n",
       "      <th>3</th>\n",
       "      <td>2006-02-08</td>\n",
       "      <td>CAMPBELL RIVER BC (CYBL)</td>\n",
       "      <td>NaN</td>\n",
       "      <td>Canada</td>\n",
       "      <td>The pilot of C-GHLZ a Robinson R22 owned by E ...</td>\n",
       "      <td>TC</td>\n",
       "      <td>1000.0</td>\n",
       "      <td>Robinson R22</td>\n",
       "      <td>H</td>\n",
       "      <td>0</td>\n",
       "    </tr>\n",
       "    <tr>\n",
       "      <th>4</th>\n",
       "      <td>2006-06-17</td>\n",
       "      <td>ROBERVAL QC (CYRJ)</td>\n",
       "      <td>NaN</td>\n",
       "      <td>Canada</td>\n",
       "      <td>At 1622Z, when CGWGF was approximately 5 NM on...</td>\n",
       "      <td>TC</td>\n",
       "      <td>NaN</td>\n",
       "      <td>Cessna TR182</td>\n",
       "      <td>G</td>\n",
       "      <td>0</td>\n",
       "    </tr>\n",
       "    <tr>\n",
       "      <th>5</th>\n",
       "      <td>2006-07-24</td>\n",
       "      <td>SEPT-ÎLES QC (CYZV)</td>\n",
       "      <td>NaN</td>\n",
       "      <td>Chile</td>\n",
       "      <td>Model airplane activity was reported by a Cess...</td>\n",
       "      <td>TC</td>\n",
       "      <td>NaN</td>\n",
       "      <td>Cessna 310</td>\n",
       "      <td>G</td>\n",
       "      <td>0</td>\n",
       "    </tr>\n",
       "    <tr>\n",
       "      <th>...</th>\n",
       "      <td>...</td>\n",
       "      <td>...</td>\n",
       "      <td>...</td>\n",
       "      <td>...</td>\n",
       "      <td>...</td>\n",
       "      <td>...</td>\n",
       "      <td>...</td>\n",
       "      <td>...</td>\n",
       "      <td>...</td>\n",
       "      <td>...</td>\n",
       "    </tr>\n",
       "    <tr>\n",
       "      <th>16742</th>\n",
       "      <td>2022-09-27</td>\n",
       "      <td>CHARLOTTE</td>\n",
       "      <td>NORTH CAROLINA</td>\n",
       "      <td>USA</td>\n",
       "      <td>PRELIM INFO FROM FAA OPS: CHARLOTTE, NC/UAS SI...</td>\n",
       "      <td>FAA</td>\n",
       "      <td>9000.0</td>\n",
       "      <td>CRJ-900</td>\n",
       "      <td>A</td>\n",
       "      <td>0</td>\n",
       "    </tr>\n",
       "    <tr>\n",
       "      <th>16744</th>\n",
       "      <td>2022-09-29</td>\n",
       "      <td>LIONS GATE BRIDGE</td>\n",
       "      <td>NaN</td>\n",
       "      <td>Canada</td>\n",
       "      <td>A Gulf Island Seaplanes de Havilland DHC-2 MK....</td>\n",
       "      <td>TC</td>\n",
       "      <td>800.0</td>\n",
       "      <td>DHC-2</td>\n",
       "      <td>A</td>\n",
       "      <td>0</td>\n",
       "    </tr>\n",
       "    <tr>\n",
       "      <th>16746</th>\n",
       "      <td>2022-10-05</td>\n",
       "      <td>TORONTO/LESTER B. PEARSON</td>\n",
       "      <td>NaN</td>\n",
       "      <td>Canada</td>\n",
       "      <td>A WestJet Boeing 737-7CT (C-GWSN/WJA660) from ...</td>\n",
       "      <td>TC</td>\n",
       "      <td>NaN</td>\n",
       "      <td>Boeing 737-7CT</td>\n",
       "      <td>A</td>\n",
       "      <td>0</td>\n",
       "    </tr>\n",
       "    <tr>\n",
       "      <th>16747</th>\n",
       "      <td>2022-10-18</td>\n",
       "      <td>CALGARY</td>\n",
       "      <td>NaN</td>\n",
       "      <td>Canada</td>\n",
       "      <td>A WestJet Boeing 737-700 (WJA267) from Winnipe...</td>\n",
       "      <td>TC</td>\n",
       "      <td>NaN</td>\n",
       "      <td>Boeing 737-7CT</td>\n",
       "      <td>A</td>\n",
       "      <td>0</td>\n",
       "    </tr>\n",
       "    <tr>\n",
       "      <th>16749</th>\n",
       "      <td>2022-11-03</td>\n",
       "      <td>MONTREAL</td>\n",
       "      <td>NaN</td>\n",
       "      <td>Canada</td>\n",
       "      <td>An Aviation Starlink Bombardier BD-700-1A10 (C...</td>\n",
       "      <td>TC</td>\n",
       "      <td>NaN</td>\n",
       "      <td>Bombardier BD-700-1A10</td>\n",
       "      <td>B</td>\n",
       "      <td>0</td>\n",
       "    </tr>\n",
       "  </tbody>\n",
       "</table>\n",
       "<p>16102 rows × 10 columns</p>\n",
       "</div>"
      ],
      "text/plain": [
       "             Date                       City           State Country  \\\n",
       "1      2004-06-24         MONTRÉAL/ST-HUBERT             NaN  Canada   \n",
       "2      2004-07-30               BOUNDARY BAY             NaN  Canada   \n",
       "3      2006-02-08   CAMPBELL RIVER BC (CYBL)             NaN  Canada   \n",
       "4      2006-06-17         ROBERVAL QC (CYRJ)             NaN  Canada   \n",
       "5      2006-07-24        SEPT-ÎLES QC (CYZV)             NaN   Chile   \n",
       "...           ...                        ...             ...     ...   \n",
       "16742  2022-09-27                  CHARLOTTE  NORTH CAROLINA     USA   \n",
       "16744  2022-09-29          LIONS GATE BRIDGE             NaN  Canada   \n",
       "16746  2022-10-05  TORONTO/LESTER B. PEARSON             NaN  Canada   \n",
       "16747  2022-10-18                    CALGARY             NaN  Canada   \n",
       "16749  2022-11-03                   MONTREAL             NaN  Canada   \n",
       "\n",
       "                                               Narrative Source  Altitude  \\\n",
       "1      C-FTSJ, a Cargair Piper Aztec, reported that a...     TC       NaN   \n",
       "2      The pilot of C-FTUK a privately registered Rob...     TC       NaN   \n",
       "3      The pilot of C-GHLZ a Robinson R22 owned by E ...     TC    1000.0   \n",
       "4      At 1622Z, when CGWGF was approximately 5 NM on...     TC       NaN   \n",
       "5      Model airplane activity was reported by a Cess...     TC       NaN   \n",
       "...                                                  ...    ...       ...   \n",
       "16742  PRELIM INFO FROM FAA OPS: CHARLOTTE, NC/UAS SI...    FAA    9000.0   \n",
       "16744  A Gulf Island Seaplanes de Havilland DHC-2 MK....     TC     800.0   \n",
       "16746  A WestJet Boeing 737-7CT (C-GWSN/WJA660) from ...     TC       NaN   \n",
       "16747  A WestJet Boeing 737-700 (WJA267) from Winnipe...     TC       NaN   \n",
       "16749  An Aviation Starlink Bombardier BD-700-1A10 (C...     TC       NaN   \n",
       "\n",
       "                     Aircraft AircraftCategory  Evasive_man  \n",
       "1       Piper PA-23-250 Aztec                G            0  \n",
       "2                Robinson R44                H            0  \n",
       "3                Robinson R22                H            0  \n",
       "4                Cessna TR182                G            0  \n",
       "5                  Cessna 310                G            0  \n",
       "...                       ...              ...          ...  \n",
       "16742                 CRJ-900                A            0  \n",
       "16744                   DHC-2                A            0  \n",
       "16746          Boeing 737-7CT                A            0  \n",
       "16747          Boeing 737-7CT                A            0  \n",
       "16749  Bombardier BD-700-1A10                B            0  \n",
       "\n",
       "[16102 rows x 10 columns]"
      ]
     },
     "execution_count": 36,
     "metadata": {},
     "output_type": "execute_result"
    }
   ],
   "source": [
    "drones"
   ]
  },
  {
   "cell_type": "markdown",
   "id": "7833ccd8",
   "metadata": {},
   "source": [
    "---\n",
    "\n",
    "Ya está hecha la limpieza de datos. Ahora se puede exportar el nuevo dataset limpio y filtrado:"
   ]
  },
  {
   "cell_type": "code",
   "execution_count": 37,
   "id": "997924c6",
   "metadata": {},
   "outputs": [],
   "source": [
    "drones.to_excel(r'../09 - Creación de la visualización y entrega proyecto (PRA2)/DRONES.xlsx', sheet_name='DRONES', index=False)"
   ]
  }
 ],
 "metadata": {
  "kernelspec": {
   "display_name": "Python 3 (ipykernel)",
   "language": "python",
   "name": "python3"
  },
  "language_info": {
   "codemirror_mode": {
    "name": "ipython",
    "version": 3
   },
   "file_extension": ".py",
   "mimetype": "text/x-python",
   "name": "python",
   "nbconvert_exporter": "python",
   "pygments_lexer": "ipython3",
   "version": "3.8.8"
  }
 },
 "nbformat": 4,
 "nbformat_minor": 5
}
